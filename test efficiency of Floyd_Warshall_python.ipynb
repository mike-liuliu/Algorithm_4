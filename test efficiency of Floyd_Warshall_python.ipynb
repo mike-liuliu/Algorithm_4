{
 "cells": [
  {
   "cell_type": "code",
   "execution_count": 1,
   "id": "d8c341f4-72ec-41d9-8094-82d124d0d245",
   "metadata": {},
   "outputs": [],
   "source": [
    "exec(open(\"./funcs/mmj_cal_functions.py\").read())\n",
    "exec(open(\"./funcs/variant_of_Floyd_Warshall.py\").read())\n",
    "exec(open(\"./funcs/Prim_Minimum_Spanning_Tree.py\").read())"
   ]
  },
  {
   "cell_type": "code",
   "execution_count": 2,
   "id": "78874ed5",
   "metadata": {},
   "outputs": [],
   "source": [
    "import time"
   ]
  },
  {
   "cell_type": "code",
   "execution_count": 3,
   "id": "2baeabee-a859-49f8-a070-cf2135ae5563",
   "metadata": {
    "scrolled": false
   },
   "outputs": [],
   "source": [
    "test_data_145 = pickle.load(  open( \"./data/test_data_145.p\", \"rb\" ) ) \n"
   ]
  },
  {
   "cell_type": "code",
   "execution_count": 4,
   "id": "b1744f75",
   "metadata": {},
   "outputs": [
    {
     "data": {
      "text/plain": [
       "'2024-07-02 23:28:11'"
      ]
     },
     "execution_count": 4,
     "metadata": {},
     "output_type": "execute_result"
    }
   ],
   "source": [
    "from time import gmtime, strftime\n",
    "strftime(\"%Y-%m-%d %H:%M:%S\", gmtime())"
   ]
  },
  {
   "cell_type": "code",
   "execution_count": 5,
   "id": "a9fc22fd",
   "metadata": {
    "scrolled": false
   },
   "outputs": [
    {
     "name": "stdout",
     "output_type": "stream",
     "text": [
      "Number of points in data X: 120\n",
      "Time used: 1.63s\n"
     ]
    }
   ],
   "source": [
    "\n",
    "data_id = 139\n",
    "X = test_data_145[data_id] \n",
    "print(f\"Number of points in data X: {len(X)}\" )\n",
    "\n",
    "start = time.time()\n",
    "X_mmj_matrix = cal_mmj_variant_of_Floyd_Warshall_python(X)\n",
    "end = time.time()\n",
    "time_used = end - start\n",
    "time_used = np.round(time_used, 3)\n",
    "\n",
    "print(f\"Time used: {time_used}s\" )\n"
   ]
  },
  {
   "cell_type": "code",
   "execution_count": 6,
   "id": "956cc945",
   "metadata": {},
   "outputs": [
    {
     "name": "stdout",
     "output_type": "stream",
     "text": [
      "Number of points in data X: 120\n",
      "Time used: 1.524s\n"
     ]
    }
   ],
   "source": [
    "\n",
    "data_id = 139\n",
    "X = test_data_145[data_id] \n",
    "print(f\"Number of points in data X: {len(X)}\" )\n",
    "\n",
    "start = time.time()\n",
    "X_mmj_matrix = cal_mmj_variant_of_Floyd_Warshall_python(X)\n",
    "end = time.time()\n",
    "time_used = end - start\n",
    "time_used = np.round(time_used, 3)\n",
    "\n",
    "print(f\"Time used: {time_used}s\" )"
   ]
  },
  {
   "cell_type": "code",
   "execution_count": null,
   "id": "b0998f61",
   "metadata": {},
   "outputs": [],
   "source": []
  },
  {
   "cell_type": "code",
   "execution_count": 7,
   "id": "9891310e",
   "metadata": {},
   "outputs": [
    {
     "name": "stdout",
     "output_type": "stream",
     "text": [
      "Number of points in data X: 120\n",
      "Time used: 1.489s\n"
     ]
    }
   ],
   "source": [
    "data_id = 139\n",
    "X = test_data_145[data_id] \n",
    "print(f\"Number of points in data X: {len(X)}\" )\n",
    "\n",
    "start = time.time()\n",
    "X_mmj_matrix = cal_mmj_variant_of_Floyd_Warshall_python(X)\n",
    "end = time.time()\n",
    "time_used = end - start\n",
    "time_used = np.round(time_used, 3)\n",
    "\n",
    "print(f\"Time used: {time_used}s\" )"
   ]
  },
  {
   "cell_type": "code",
   "execution_count": null,
   "id": "9eaa08d6",
   "metadata": {},
   "outputs": [],
   "source": []
  },
  {
   "cell_type": "code",
   "execution_count": 8,
   "id": "36891539",
   "metadata": {},
   "outputs": [
    {
     "name": "stdout",
     "output_type": "stream",
     "text": [
      "Number of points in data X: 300\n",
      "Time used: 23.353s\n"
     ]
    }
   ],
   "source": [
    "data_id = 109\n",
    "X = test_data_145[data_id] \n",
    "print(f\"Number of points in data X: {len(X)}\" )\n",
    "\n",
    "start = time.time()\n",
    "X_mmj_matrix = cal_mmj_variant_of_Floyd_Warshall_python(X)\n",
    "end = time.time()\n",
    "time_used = end - start\n",
    "time_used = np.round(time_used, 3)\n",
    "\n",
    "print(f\"Time used: {time_used}s\" )"
   ]
  },
  {
   "cell_type": "code",
   "execution_count": null,
   "id": "d39e725a",
   "metadata": {},
   "outputs": [],
   "source": []
  },
  {
   "cell_type": "code",
   "execution_count": 9,
   "id": "d69b50fc",
   "metadata": {},
   "outputs": [
    {
     "name": "stdout",
     "output_type": "stream",
     "text": [
      "Number of points in data X: 500\n",
      "Time used: 106.745s\n"
     ]
    }
   ],
   "source": [
    "data_id = 18\n",
    "X = test_data_145[data_id] \n",
    "print(f\"Number of points in data X: {len(X)}\" )\n",
    "\n",
    "start = time.time()\n",
    "X_mmj_matrix = cal_mmj_variant_of_Floyd_Warshall_python(X)\n",
    "end = time.time()\n",
    "time_used = end - start\n",
    "time_used = np.round(time_used, 3)\n",
    "\n",
    "print(f\"Time used: {time_used}s\" )"
   ]
  },
  {
   "cell_type": "code",
   "execution_count": null,
   "id": "e933f87a",
   "metadata": {},
   "outputs": [],
   "source": []
  },
  {
   "cell_type": "code",
   "execution_count": 10,
   "id": "ad44d554",
   "metadata": {},
   "outputs": [
    {
     "data": {
      "text/plain": [
       "'2024-07-02 23:30:26'"
      ]
     },
     "execution_count": 10,
     "metadata": {},
     "output_type": "execute_result"
    }
   ],
   "source": [
    "from time import gmtime, strftime\n",
    "strftime(\"%Y-%m-%d %H:%M:%S\", gmtime())"
   ]
  },
  {
   "cell_type": "code",
   "execution_count": null,
   "id": "33a5e788",
   "metadata": {},
   "outputs": [],
   "source": []
  },
  {
   "cell_type": "code",
   "execution_count": 11,
   "id": "539fcd66",
   "metadata": {},
   "outputs": [
    {
     "name": "stdout",
     "output_type": "stream",
     "text": [
      "Number of points in data X: 850\n",
      "Time used: 534.683s\n"
     ]
    }
   ],
   "source": [
    "data_id = 19\n",
    "X = test_data_145[data_id] \n",
    "print(f\"Number of points in data X: {len(X)}\" )\n",
    "\n",
    "start = time.time()\n",
    "X_mmj_matrix = cal_mmj_variant_of_Floyd_Warshall_python(X)\n",
    "end = time.time()\n",
    "time_used = end - start\n",
    "time_used = np.round(time_used, 3)\n",
    "\n",
    "print(f\"Time used: {time_used}s\" )"
   ]
  },
  {
   "cell_type": "code",
   "execution_count": 12,
   "id": "30d13132",
   "metadata": {},
   "outputs": [
    {
     "name": "stdout",
     "output_type": "stream",
     "text": [
      "Number of points in data X: 2500\n"
     ]
    },
    {
     "ename": "KeyboardInterrupt",
     "evalue": "",
     "output_type": "error",
     "traceback": [
      "\u001b[0;31m---------------------------------------------------------------------------\u001b[0m",
      "\u001b[0;31mKeyboardInterrupt\u001b[0m                         Traceback (most recent call last)",
      "Cell \u001b[0;32mIn[12], line 6\u001b[0m\n\u001b[1;32m      3\u001b[0m \u001b[38;5;28mprint\u001b[39m(\u001b[38;5;124mf\u001b[39m\u001b[38;5;124m\"\u001b[39m\u001b[38;5;124mNumber of points in data X: \u001b[39m\u001b[38;5;132;01m{\u001b[39;00m\u001b[38;5;28mlen\u001b[39m(X)\u001b[38;5;132;01m}\u001b[39;00m\u001b[38;5;124m\"\u001b[39m )\n\u001b[1;32m      5\u001b[0m start \u001b[38;5;241m=\u001b[39m time\u001b[38;5;241m.\u001b[39mtime()\n\u001b[0;32m----> 6\u001b[0m X_mmj_matrix \u001b[38;5;241m=\u001b[39m \u001b[43mcal_mmj_variant_of_Floyd_Warshall_python\u001b[49m\u001b[43m(\u001b[49m\u001b[43mX\u001b[49m\u001b[43m)\u001b[49m\n\u001b[1;32m      7\u001b[0m end \u001b[38;5;241m=\u001b[39m time\u001b[38;5;241m.\u001b[39mtime()\n\u001b[1;32m      8\u001b[0m time_used \u001b[38;5;241m=\u001b[39m end \u001b[38;5;241m-\u001b[39m start\n",
      "File \u001b[0;32m<string>:14\u001b[0m, in \u001b[0;36mcal_mmj_variant_of_Floyd_Warshall_python\u001b[0;34m(X, round_n)\u001b[0m\n",
      "\u001b[0;31mKeyboardInterrupt\u001b[0m: "
     ]
    }
   ],
   "source": [
    "data_id = 16\n",
    "X = test_data_145[data_id] \n",
    "print(f\"Number of points in data X: {len(X)}\" )\n",
    "\n",
    "start = time.time()\n",
    "X_mmj_matrix = cal_mmj_variant_of_Floyd_Warshall_python(X)\n",
    "end = time.time()\n",
    "time_used = end - start\n",
    "time_used = np.round(time_used, 3)\n",
    "\n",
    "print(f\"Time used: {time_used}s\" )"
   ]
  },
  {
   "cell_type": "code",
   "execution_count": 13,
   "id": "093af5bd",
   "metadata": {},
   "outputs": [
    {
     "data": {
      "text/plain": [
       "'2024-07-03 02:03:18'"
      ]
     },
     "execution_count": 13,
     "metadata": {},
     "output_type": "execute_result"
    }
   ],
   "source": [
    "from time import gmtime, strftime\n",
    "strftime(\"%Y-%m-%d %H:%M:%S\", gmtime())"
   ]
  },
  {
   "cell_type": "code",
   "execution_count": null,
   "id": "f222bde6",
   "metadata": {},
   "outputs": [],
   "source": []
  },
  {
   "cell_type": "code",
   "execution_count": null,
   "id": "6caf8bdb",
   "metadata": {},
   "outputs": [],
   "source": [
    "data_id = 35\n",
    "X = test_data_145[data_id] \n",
    "print(f\"Number of points in data X: {len(X)}\" )\n",
    "\n",
    "start = time.time()\n",
    "X_mmj_matrix = cal_mmj_variant_of_Floyd_Warshall_python(X)\n",
    "end = time.time()\n",
    "time_used = end - start\n",
    "time_used = np.round(time_used, 3)\n",
    "\n",
    "print(f\"Time used: {time_used}s\" )"
   ]
  },
  {
   "cell_type": "code",
   "execution_count": null,
   "id": "5a0e5227",
   "metadata": {},
   "outputs": [],
   "source": []
  },
  {
   "cell_type": "code",
   "execution_count": null,
   "id": "f72f93e6",
   "metadata": {},
   "outputs": [],
   "source": [
    "from time import gmtime, strftime\n",
    "strftime(\"%Y-%m-%d %H:%M:%S\", gmtime())"
   ]
  },
  {
   "cell_type": "code",
   "execution_count": null,
   "id": "107f3ba5",
   "metadata": {},
   "outputs": [],
   "source": [
    "data_id = 136\n",
    "X = test_data_145[data_id] \n",
    "print(f\"Number of points in data X: {len(X)}\" )\n",
    "\n",
    "start = time.time()\n",
    "X_mmj_matrix = cal_mmj_variant_of_Floyd_Warshall_python(X)\n",
    "end = time.time()\n",
    "time_used = end - start\n",
    "time_used = np.round(time_used, 3)\n",
    "\n",
    "print(f\"Time used: {time_used}s\" )"
   ]
  },
  {
   "cell_type": "code",
   "execution_count": null,
   "id": "2456ad3e",
   "metadata": {},
   "outputs": [],
   "source": []
  },
  {
   "cell_type": "code",
   "execution_count": null,
   "id": "47a63642",
   "metadata": {},
   "outputs": [],
   "source": []
  },
  {
   "cell_type": "code",
   "execution_count": null,
   "id": "676ea46f",
   "metadata": {},
   "outputs": [],
   "source": []
  },
  {
   "cell_type": "code",
   "execution_count": null,
   "id": "697a90fb",
   "metadata": {},
   "outputs": [],
   "source": []
  },
  {
   "cell_type": "code",
   "execution_count": null,
   "id": "64106fde",
   "metadata": {},
   "outputs": [],
   "source": []
  },
  {
   "cell_type": "code",
   "execution_count": null,
   "id": "abeea006",
   "metadata": {},
   "outputs": [],
   "source": []
  }
 ],
 "metadata": {
  "kernelspec": {
   "display_name": "Python 3 (ipykernel)",
   "language": "python",
   "name": "python3"
  },
  "language_info": {
   "codemirror_mode": {
    "name": "ipython",
    "version": 3
   },
   "file_extension": ".py",
   "mimetype": "text/x-python",
   "name": "python",
   "nbconvert_exporter": "python",
   "pygments_lexer": "ipython3",
   "version": "3.12.3"
  }
 },
 "nbformat": 4,
 "nbformat_minor": 5
}
