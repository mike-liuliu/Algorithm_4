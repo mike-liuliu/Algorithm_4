{
 "cells": [
  {
   "cell_type": "code",
   "execution_count": 12,
   "id": "d8c341f4-72ec-41d9-8094-82d124d0d245",
   "metadata": {},
   "outputs": [],
   "source": [
    "exec(open(\"./funcs/mmj_cal_functions.py\").read())\n",
    "exec(open(\"./funcs/variant_of_Floyd_Warshall.py\").read())\n",
    "exec(open(\"./funcs/Prim_Minimum_Spanning_Tree.py\").read())"
   ]
  },
  {
   "cell_type": "code",
   "execution_count": 13,
   "id": "78874ed5",
   "metadata": {},
   "outputs": [],
   "source": [
    "import time"
   ]
  },
  {
   "cell_type": "code",
   "execution_count": 14,
   "id": "2baeabee-a859-49f8-a070-cf2135ae5563",
   "metadata": {
    "scrolled": false
   },
   "outputs": [],
   "source": [
    "test_data_145 = pickle.load(  open( \"./data/test_data_145.p\", \"rb\" ) ) \n"
   ]
  },
  {
   "cell_type": "code",
   "execution_count": null,
   "id": "74d242cc",
   "metadata": {},
   "outputs": [],
   "source": []
  },
  {
   "cell_type": "code",
   "execution_count": 4,
   "id": "b815e7f8",
   "metadata": {},
   "outputs": [
    {
     "name": "stdout",
     "output_type": "stream",
     "text": [
      "Number of points in data X: 120\n",
      "Time used: 0.218s\n"
     ]
    }
   ],
   "source": [
    "\n",
    "data_id = 139\n",
    "X = test_data_145[data_id] \n",
    "print(f\"Number of points in data X: {len(X)}\" )\n",
    "\n",
    "start = time.time()\n",
    "X_mmj_matrix_algo_4 = cal_mmj_matrix_by_algo_4_Calculation_and_Copy(X)\n",
    "end = time.time()\n",
    "time_used = end - start\n",
    "time_used = np.round(time_used, 3)\n",
    "\n",
    "print(f\"Time used: {time_used}s\" )"
   ]
  },
  {
   "cell_type": "code",
   "execution_count": null,
   "id": "832ec5ab",
   "metadata": {},
   "outputs": [],
   "source": []
  },
  {
   "cell_type": "code",
   "execution_count": null,
   "id": "f26cb3f4",
   "metadata": {},
   "outputs": [],
   "source": []
  },
  {
   "cell_type": "code",
   "execution_count": 5,
   "id": "8ca7d541",
   "metadata": {},
   "outputs": [
    {
     "name": "stdout",
     "output_type": "stream",
     "text": [
      "Number of points in data X: 120\n",
      "Time used: 0.02s\n"
     ]
    }
   ],
   "source": [
    "\n",
    "data_id = 139\n",
    "X = test_data_145[data_id] \n",
    "print(f\"Number of points in data X: {len(X)}\" )\n",
    "\n",
    "start = time.time()\n",
    "X_mmj_matrix_algo_4 = cal_mmj_matrix_by_algo_4_Calculation_and_Copy(X)\n",
    "end = time.time()\n",
    "time_used = end - start\n",
    "time_used = np.round(time_used, 3)\n",
    "\n",
    "print(f\"Time used: {time_used}s\" )"
   ]
  },
  {
   "cell_type": "code",
   "execution_count": null,
   "id": "3ed24f12",
   "metadata": {},
   "outputs": [],
   "source": []
  },
  {
   "cell_type": "code",
   "execution_count": 6,
   "id": "10e021f6",
   "metadata": {},
   "outputs": [
    {
     "name": "stdout",
     "output_type": "stream",
     "text": [
      "Number of points in data X: 300\n",
      "Time used: 0.073s\n"
     ]
    }
   ],
   "source": [
    "\n",
    "data_id = 109\n",
    "X = test_data_145[data_id] \n",
    "print(f\"Number of points in data X: {len(X)}\" )\n",
    "\n",
    "start = time.time()\n",
    "X_mmj_matrix_algo_4 = cal_mmj_matrix_by_algo_4_Calculation_and_Copy(X)\n",
    "end = time.time()\n",
    "time_used = end - start\n",
    "time_used = np.round(time_used, 3)\n",
    "\n",
    "print(f\"Time used: {time_used}s\" )"
   ]
  },
  {
   "cell_type": "code",
   "execution_count": null,
   "id": "60cf963b",
   "metadata": {},
   "outputs": [],
   "source": []
  },
  {
   "cell_type": "code",
   "execution_count": 7,
   "id": "855e8f50",
   "metadata": {},
   "outputs": [
    {
     "name": "stdout",
     "output_type": "stream",
     "text": [
      "Number of points in data X: 500\n",
      "Time used: 0.191s\n"
     ]
    }
   ],
   "source": [
    "data_id = 18\n",
    "X = test_data_145[data_id] \n",
    "print(f\"Number of points in data X: {len(X)}\" )\n",
    "\n",
    "start = time.time()\n",
    "X_mmj_matrix_algo_4 = cal_mmj_matrix_by_algo_4_Calculation_and_Copy(X)\n",
    "end = time.time()\n",
    "time_used = end - start\n",
    "time_used = np.round(time_used, 3)\n",
    "\n",
    "print(f\"Time used: {time_used}s\" )"
   ]
  },
  {
   "cell_type": "code",
   "execution_count": 8,
   "id": "539fcd66",
   "metadata": {},
   "outputs": [
    {
     "name": "stdout",
     "output_type": "stream",
     "text": [
      "Number of points in data X: 850\n",
      "Time used: 0.511s\n"
     ]
    }
   ],
   "source": [
    "data_id = 19\n",
    "X = test_data_145[data_id] \n",
    "print(f\"Number of points in data X: {len(X)}\" )\n",
    "\n",
    "start = time.time()\n",
    "X_mmj_matrix_algo_4 = cal_mmj_matrix_by_algo_4_Calculation_and_Copy(X)\n",
    "end = time.time()\n",
    "time_used = end - start\n",
    "time_used = np.round(time_used, 3)\n",
    "\n",
    "print(f\"Time used: {time_used}s\" )"
   ]
  },
  {
   "cell_type": "code",
   "execution_count": 9,
   "id": "30d13132",
   "metadata": {},
   "outputs": [
    {
     "name": "stdout",
     "output_type": "stream",
     "text": [
      "Number of points in data X: 2500\n",
      "Time used: 4.311s\n"
     ]
    }
   ],
   "source": [
    "data_id = 16\n",
    "X = test_data_145[data_id] \n",
    "print(f\"Number of points in data X: {len(X)}\" )\n",
    "\n",
    "start = time.time()\n",
    "X_mmj_matrix_algo_4 = cal_mmj_matrix_by_algo_4_Calculation_and_Copy(X)\n",
    "end = time.time()\n",
    "time_used = end - start\n",
    "time_used = np.round(time_used, 3)\n",
    "\n",
    "print(f\"Time used: {time_used}s\" )"
   ]
  },
  {
   "cell_type": "code",
   "execution_count": 10,
   "id": "6caf8bdb",
   "metadata": {},
   "outputs": [
    {
     "name": "stdout",
     "output_type": "stream",
     "text": [
      "Number of points in data X: 5000\n",
      "Time used: 17.015s\n"
     ]
    }
   ],
   "source": [
    "data_id = 35\n",
    "X = test_data_145[data_id] \n",
    "print(f\"Number of points in data X: {len(X)}\" )\n",
    "\n",
    "start = time.time()\n",
    "X_mmj_matrix_algo_4 = cal_mmj_matrix_by_algo_4_Calculation_and_Copy(X)\n",
    "end = time.time()\n",
    "time_used = end - start\n",
    "time_used = np.round(time_used, 3)\n",
    "\n",
    "print(f\"Time used: {time_used}s\" )"
   ]
  },
  {
   "cell_type": "code",
   "execution_count": 15,
   "id": "107f3ba5",
   "metadata": {},
   "outputs": [
    {
     "name": "stdout",
     "output_type": "stream",
     "text": [
      "Number of points in data X: 10000\n",
      "Time used: 67.048s\n"
     ]
    }
   ],
   "source": [
    "data_id = 136\n",
    "X = test_data_145[data_id] \n",
    "print(f\"Number of points in data X: {len(X)}\" )\n",
    "\n",
    "start = time.time()\n",
    "X_mmj_matrix_algo_4 = cal_mmj_matrix_by_algo_4_Calculation_and_Copy(X)\n",
    "end = time.time()\n",
    "time_used = end - start\n",
    "time_used = np.round(time_used, 3)\n",
    "\n",
    "print(f\"Time used: {time_used}s\" )"
   ]
  },
  {
   "cell_type": "code",
   "execution_count": null,
   "id": "2456ad3e",
   "metadata": {},
   "outputs": [],
   "source": []
  },
  {
   "cell_type": "code",
   "execution_count": null,
   "id": "47a63642",
   "metadata": {},
   "outputs": [],
   "source": []
  },
  {
   "cell_type": "code",
   "execution_count": null,
   "id": "676ea46f",
   "metadata": {},
   "outputs": [],
   "source": []
  },
  {
   "cell_type": "code",
   "execution_count": null,
   "id": "697a90fb",
   "metadata": {},
   "outputs": [],
   "source": []
  },
  {
   "cell_type": "code",
   "execution_count": null,
   "id": "64106fde",
   "metadata": {},
   "outputs": [],
   "source": []
  },
  {
   "cell_type": "code",
   "execution_count": null,
   "id": "abeea006",
   "metadata": {},
   "outputs": [],
   "source": []
  }
 ],
 "metadata": {
  "kernelspec": {
   "display_name": "Python 3 (ipykernel)",
   "language": "python",
   "name": "python3"
  },
  "language_info": {
   "codemirror_mode": {
    "name": "ipython",
    "version": 3
   },
   "file_extension": ".py",
   "mimetype": "text/x-python",
   "name": "python",
   "nbconvert_exporter": "python",
   "pygments_lexer": "ipython3",
   "version": "3.12.3"
  }
 },
 "nbformat": 4,
 "nbformat_minor": 5
}
