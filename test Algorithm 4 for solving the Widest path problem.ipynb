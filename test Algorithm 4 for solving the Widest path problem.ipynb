{
 "cells": [
  {
   "cell_type": "code",
   "execution_count": 1,
   "id": "d8c341f4-72ec-41d9-8094-82d124d0d245",
   "metadata": {},
   "outputs": [],
   "source": [
    "exec(open(\"./funcs/mmj_cal_functions.py\").read())\n",
    "exec(open(\"./funcs/variant_of_Floyd_Warshall.py\").read())\n",
    "exec(open(\"./funcs/Prim_Minimum_Spanning_Tree.py\").read())\n",
    " "
   ]
  },
  {
   "cell_type": "code",
   "execution_count": 2,
   "id": "cc47a24e",
   "metadata": {},
   "outputs": [],
   "source": [
    "# wides_path_exam_graph, widest path problem example graph, \n",
    "# see the upper right graph on https://en.wikipedia.org/wiki/Widest_path_problem\n",
    "\n",
    "pairwise_bandwidth_matrix = pickle.load(  open( \"./data/wides_path_exam_graph.p\", \"rb\" )) \n",
    " "
   ]
  },
  {
   "cell_type": "code",
   "execution_count": 3,
   "id": "0dc0c24a",
   "metadata": {
    "scrolled": true
   },
   "outputs": [
    {
     "data": {
      "text/plain": [
       "array([[inf, 15., 53.,  0.,  0.,  0.,  0.],\n",
       "       [15., inf, 40.,  0.,  0., 46.,  0.],\n",
       "       [53., 40., inf, 17., 31.,  0.,  0.],\n",
       "       [ 0.,  0., 17., inf, 29.,  0., 40.],\n",
       "       [ 0.,  0., 31., 29., inf,  3.,  8.],\n",
       "       [ 0., 46.,  0.,  0.,  3., inf, 11.],\n",
       "       [ 0.,  0.,  0., 40.,  8., 11., inf]])"
      ]
     },
     "execution_count": 3,
     "metadata": {},
     "output_type": "execute_result"
    }
   ],
   "source": [
    "pairwise_bandwidth_matrix"
   ]
  },
  {
   "cell_type": "code",
   "execution_count": 4,
   "id": "31beb80a",
   "metadata": {},
   "outputs": [],
   "source": [
    "graph_nodes_names = {'Dunwich':0, 'Blaxhall':1, 'Harwich':2, 'Clacton':3, 'Tiptree':4, 'Feering':5, 'Maldon':6}\n",
    "\n"
   ]
  },
  {
   "cell_type": "code",
   "execution_count": null,
   "id": "a630373e",
   "metadata": {},
   "outputs": [],
   "source": []
  },
  {
   "cell_type": "code",
   "execution_count": 5,
   "id": "74239dd0",
   "metadata": {
    "scrolled": false
   },
   "outputs": [
    {
     "data": {
      "text/plain": [
       "array([[ 0., 40., 53., 29., 31., 40., 29.],\n",
       "       [40.,  0., 40., 29., 31., 46., 29.],\n",
       "       [53., 40.,  0., 29., 31., 40., 29.],\n",
       "       [29., 29., 29.,  0., 29., 29., 40.],\n",
       "       [31., 31., 31., 29.,  0., 31., 29.],\n",
       "       [40., 46., 40., 29., 31.,  0., 29.],\n",
       "       [29., 29., 29., 40., 29., 29.,  0.]])"
      ]
     },
     "execution_count": 5,
     "metadata": {},
     "output_type": "execute_result"
    }
   ],
   "source": [
    "Widest_path_matrix = cal_Widest_path_problem_matrix_by_algo_4(pairwise_bandwidth_matrix)\n",
    "Widest_path_matrix\n",
    "\n"
   ]
  },
  {
   "cell_type": "code",
   "execution_count": 6,
   "id": "1567b10d",
   "metadata": {},
   "outputs": [
    {
     "data": {
      "text/plain": [
       "29.0"
      ]
     },
     "execution_count": 6,
     "metadata": {},
     "output_type": "execute_result"
    }
   ],
   "source": [
    "i = graph_nodes_names[\"Maldon\"]\n",
    "j = graph_nodes_names[\"Feering\"]\n",
    "\n",
    "Widest_path_matrix[i,j]\n"
   ]
  },
  {
   "cell_type": "code",
   "execution_count": null,
   "id": "c1f29450",
   "metadata": {},
   "outputs": [],
   "source": []
  },
  {
   "cell_type": "code",
   "execution_count": null,
   "id": "2fdb1448",
   "metadata": {},
   "outputs": [],
   "source": []
  },
  {
   "cell_type": "code",
   "execution_count": null,
   "id": "2ca071c5",
   "metadata": {},
   "outputs": [],
   "source": []
  }
 ],
 "metadata": {
  "kernelspec": {
   "display_name": "Python 3 (ipykernel)",
   "language": "python",
   "name": "python3"
  },
  "language_info": {
   "codemirror_mode": {
    "name": "ipython",
    "version": 3
   },
   "file_extension": ".py",
   "mimetype": "text/x-python",
   "name": "python",
   "nbconvert_exporter": "python",
   "pygments_lexer": "ipython3",
   "version": "3.12.3"
  }
 },
 "nbformat": 4,
 "nbformat_minor": 5
}
